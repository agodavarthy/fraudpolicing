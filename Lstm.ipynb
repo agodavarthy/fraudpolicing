{
  "cells": [
    {
      "cell_type": "markdown",
      "metadata": {
        "id": "view-in-github",
        "colab_type": "text"
      },
      "source": [
        "<a href=\"https://colab.research.google.com/github/agodavarthy/fraudpolicing/blob/main/Lstm.ipynb\" target=\"_parent\"><img src=\"https://colab.research.google.com/assets/colab-badge.svg\" alt=\"Open In Colab\"/></a>"
      ]
    },
    {
      "cell_type": "code",
      "execution_count": 19,
      "metadata": {
        "id": "OirbgbaI--ZD"
      },
      "outputs": [],
      "source": [
        "import numpy as np\n",
        "import pandas as pd\n",
        "import torch\n",
        "import torch.nn as nn\n",
        "import torch.optim as optim\n",
        "from torch.utils.data import Dataset, DataLoader\n",
        "from sklearn.preprocessing import StandardScaler\n",
        "from sklearn.impute import SimpleImputer\n",
        "from sklearn.preprocessing import MinMaxScaler\n",
        "from sklearn.model_selection import train_test_split\n",
        "from sklearn.metrics import confusion_matrix, classification_report, precision_recall_curve, auc, roc_curve\n",
        "import matplotlib.pyplot as plt\n",
        "import seaborn as sns\n",
        "from tqdm import tqdm"
      ]
    },
    {
      "cell_type": "code",
      "execution_count": 20,
      "metadata": {
        "id": "1tfBnLLQYPjz"
      },
      "outputs": [],
      "source": [
        "!export PYDEVD_DISABLE_FILE_VALIDATION=1"
      ]
    },
    {
      "cell_type": "code",
      "execution_count": 22,
      "metadata": {
        "id": "QLbsuCFHnrG7"
      },
      "outputs": [],
      "source": [
        "from google.colab import drive"
      ]
    },
    {
      "cell_type": "code",
      "execution_count": 21,
      "metadata": {
        "id": "OM1983jkAoXg"
      },
      "outputs": [],
      "source": [
        "# Set random seed for reproducibility\n",
        "torch.manual_seed(42)\n",
        "np.random.seed(42)"
      ]
    },
    {
      "cell_type": "code",
      "execution_count": 23,
      "metadata": {
        "colab": {
          "base_uri": "https://localhost:8080/"
        },
        "id": "7eId4kLOBbPP",
        "outputId": "088224c2-6bf6-4a6f-b1a5-f5738f0c474e"
      },
      "outputs": [
        {
          "output_type": "stream",
          "name": "stdout",
          "text": [
            "Using device: cpu\n"
          ]
        }
      ],
      "source": [
        "# Check if GPU is available\n",
        "device = torch.device(\"cuda:0\" if torch.cuda.is_available() else \"cpu\")\n",
        "print(f\"Using device: {device}\")\n"
      ]
    },
    {
      "cell_type": "code",
      "execution_count": 24,
      "metadata": {
        "colab": {
          "base_uri": "https://localhost:8080/"
        },
        "id": "QCn0V9YxAxa8",
        "outputId": "5c68932e-19b8-444a-c4fa-8a6dd0699e73"
      },
      "outputs": [
        {
          "output_type": "stream",
          "name": "stdout",
          "text": [
            "Drive already mounted at /content/drive; to attempt to forcibly remount, call drive.mount(\"/content/drive\", force_remount=True).\n",
            "Data shape: (1852394, 38)\n",
            "Fraud rate: 0.52%\n"
          ]
        }
      ],
      "source": [
        "\n",
        "# 1. Load and prepare the data\n",
        "def load_data():\n",
        "\n",
        "    drive.mount('/content/drive')\n",
        "    file_path = '/content/drive/MyDrive/IK_ProjectUp/FraudDetection/data/fraud_detection_ds/'\n",
        "    data_path = file_path+'engineered_dataset_apr13.csv'\n",
        "    df = pd.read_csv(data_path, index_col=None)\n",
        "    df = df.drop(['trans_num', 'trans_cnt_cust'], axis=1)\n",
        "\n",
        "    return df\n",
        "\n",
        "# Load data\n",
        "df = load_data()\n",
        "print(f\"Data shape: {df.shape}\")\n",
        "print(f\"Fraud rate: {df['is_fraud'].mean():.2%}\")"
      ]
    },
    {
      "cell_type": "code",
      "source": [
        "print(f\"Data shape: {df.shape}\")\n",
        "print(f\"Fraud rate: {df[df.is_fraud==1].shape[0]/df[df.is_fraud == 0].shape[0]:.2%}\")"
      ],
      "metadata": {
        "colab": {
          "base_uri": "https://localhost:8080/"
        },
        "id": "W4TkewxGbgo8",
        "outputId": "663991ab-511d-494b-ddfc-5be9a7a0edc2"
      },
      "execution_count": 27,
      "outputs": [
        {
          "output_type": "stream",
          "name": "stdout",
          "text": [
            "Data shape: (1852394, 38)\n",
            "Fraud rate: 0.52%\n"
          ]
        }
      ]
    },
    {
      "cell_type": "code",
      "source": [
        "df[['cc_num', 'transaction_year', 'transaction_month']].tail(100)"
      ],
      "metadata": {
        "colab": {
          "base_uri": "https://localhost:8080/",
          "height": 423
        },
        "id": "AjXc5cWda5qo",
        "outputId": "3b1a69be-28c9-46b9-a43d-fc3ebe432d50"
      },
      "execution_count": 12,
      "outputs": [
        {
          "output_type": "execute_result",
          "data": {
            "text/plain": [
              "                      cc_num  transaction_year  transaction_month\n",
              "1852294  4992346398065154184              2020                 12\n",
              "1852295  4992346398065154184              2020                 12\n",
              "1852296  4992346398065154184              2020                 12\n",
              "1852297  4992346398065154184              2020                 12\n",
              "1852298  4992346398065154184              2020                 12\n",
              "...                      ...               ...                ...\n",
              "1852389  4992346398065154184              2020                 12\n",
              "1852390  4992346398065154184              2020                 12\n",
              "1852391  4992346398065154184              2020                 12\n",
              "1852392  4992346398065154184              2020                 12\n",
              "1852393  4992346398065154184              2020                 12\n",
              "\n",
              "[100 rows x 3 columns]"
            ],
            "text/html": [
              "\n",
              "  <div id=\"df-e91e122c-6080-4b22-b67c-a09c5dbc251d\" class=\"colab-df-container\">\n",
              "    <div>\n",
              "<style scoped>\n",
              "    .dataframe tbody tr th:only-of-type {\n",
              "        vertical-align: middle;\n",
              "    }\n",
              "\n",
              "    .dataframe tbody tr th {\n",
              "        vertical-align: top;\n",
              "    }\n",
              "\n",
              "    .dataframe thead th {\n",
              "        text-align: right;\n",
              "    }\n",
              "</style>\n",
              "<table border=\"1\" class=\"dataframe\">\n",
              "  <thead>\n",
              "    <tr style=\"text-align: right;\">\n",
              "      <th></th>\n",
              "      <th>cc_num</th>\n",
              "      <th>transaction_year</th>\n",
              "      <th>transaction_month</th>\n",
              "    </tr>\n",
              "  </thead>\n",
              "  <tbody>\n",
              "    <tr>\n",
              "      <th>1852294</th>\n",
              "      <td>4992346398065154184</td>\n",
              "      <td>2020</td>\n",
              "      <td>12</td>\n",
              "    </tr>\n",
              "    <tr>\n",
              "      <th>1852295</th>\n",
              "      <td>4992346398065154184</td>\n",
              "      <td>2020</td>\n",
              "      <td>12</td>\n",
              "    </tr>\n",
              "    <tr>\n",
              "      <th>1852296</th>\n",
              "      <td>4992346398065154184</td>\n",
              "      <td>2020</td>\n",
              "      <td>12</td>\n",
              "    </tr>\n",
              "    <tr>\n",
              "      <th>1852297</th>\n",
              "      <td>4992346398065154184</td>\n",
              "      <td>2020</td>\n",
              "      <td>12</td>\n",
              "    </tr>\n",
              "    <tr>\n",
              "      <th>1852298</th>\n",
              "      <td>4992346398065154184</td>\n",
              "      <td>2020</td>\n",
              "      <td>12</td>\n",
              "    </tr>\n",
              "    <tr>\n",
              "      <th>...</th>\n",
              "      <td>...</td>\n",
              "      <td>...</td>\n",
              "      <td>...</td>\n",
              "    </tr>\n",
              "    <tr>\n",
              "      <th>1852389</th>\n",
              "      <td>4992346398065154184</td>\n",
              "      <td>2020</td>\n",
              "      <td>12</td>\n",
              "    </tr>\n",
              "    <tr>\n",
              "      <th>1852390</th>\n",
              "      <td>4992346398065154184</td>\n",
              "      <td>2020</td>\n",
              "      <td>12</td>\n",
              "    </tr>\n",
              "    <tr>\n",
              "      <th>1852391</th>\n",
              "      <td>4992346398065154184</td>\n",
              "      <td>2020</td>\n",
              "      <td>12</td>\n",
              "    </tr>\n",
              "    <tr>\n",
              "      <th>1852392</th>\n",
              "      <td>4992346398065154184</td>\n",
              "      <td>2020</td>\n",
              "      <td>12</td>\n",
              "    </tr>\n",
              "    <tr>\n",
              "      <th>1852393</th>\n",
              "      <td>4992346398065154184</td>\n",
              "      <td>2020</td>\n",
              "      <td>12</td>\n",
              "    </tr>\n",
              "  </tbody>\n",
              "</table>\n",
              "<p>100 rows × 3 columns</p>\n",
              "</div>\n",
              "    <div class=\"colab-df-buttons\">\n",
              "\n",
              "  <div class=\"colab-df-container\">\n",
              "    <button class=\"colab-df-convert\" onclick=\"convertToInteractive('df-e91e122c-6080-4b22-b67c-a09c5dbc251d')\"\n",
              "            title=\"Convert this dataframe to an interactive table.\"\n",
              "            style=\"display:none;\">\n",
              "\n",
              "  <svg xmlns=\"http://www.w3.org/2000/svg\" height=\"24px\" viewBox=\"0 -960 960 960\">\n",
              "    <path d=\"M120-120v-720h720v720H120Zm60-500h600v-160H180v160Zm220 220h160v-160H400v160Zm0 220h160v-160H400v160ZM180-400h160v-160H180v160Zm440 0h160v-160H620v160ZM180-180h160v-160H180v160Zm440 0h160v-160H620v160Z\"/>\n",
              "  </svg>\n",
              "    </button>\n",
              "\n",
              "  <style>\n",
              "    .colab-df-container {\n",
              "      display:flex;\n",
              "      gap: 12px;\n",
              "    }\n",
              "\n",
              "    .colab-df-convert {\n",
              "      background-color: #E8F0FE;\n",
              "      border: none;\n",
              "      border-radius: 50%;\n",
              "      cursor: pointer;\n",
              "      display: none;\n",
              "      fill: #1967D2;\n",
              "      height: 32px;\n",
              "      padding: 0 0 0 0;\n",
              "      width: 32px;\n",
              "    }\n",
              "\n",
              "    .colab-df-convert:hover {\n",
              "      background-color: #E2EBFA;\n",
              "      box-shadow: 0px 1px 2px rgba(60, 64, 67, 0.3), 0px 1px 3px 1px rgba(60, 64, 67, 0.15);\n",
              "      fill: #174EA6;\n",
              "    }\n",
              "\n",
              "    .colab-df-buttons div {\n",
              "      margin-bottom: 4px;\n",
              "    }\n",
              "\n",
              "    [theme=dark] .colab-df-convert {\n",
              "      background-color: #3B4455;\n",
              "      fill: #D2E3FC;\n",
              "    }\n",
              "\n",
              "    [theme=dark] .colab-df-convert:hover {\n",
              "      background-color: #434B5C;\n",
              "      box-shadow: 0px 1px 3px 1px rgba(0, 0, 0, 0.15);\n",
              "      filter: drop-shadow(0px 1px 2px rgba(0, 0, 0, 0.3));\n",
              "      fill: #FFFFFF;\n",
              "    }\n",
              "  </style>\n",
              "\n",
              "    <script>\n",
              "      const buttonEl =\n",
              "        document.querySelector('#df-e91e122c-6080-4b22-b67c-a09c5dbc251d button.colab-df-convert');\n",
              "      buttonEl.style.display =\n",
              "        google.colab.kernel.accessAllowed ? 'block' : 'none';\n",
              "\n",
              "      async function convertToInteractive(key) {\n",
              "        const element = document.querySelector('#df-e91e122c-6080-4b22-b67c-a09c5dbc251d');\n",
              "        const dataTable =\n",
              "          await google.colab.kernel.invokeFunction('convertToInteractive',\n",
              "                                                    [key], {});\n",
              "        if (!dataTable) return;\n",
              "\n",
              "        const docLinkHtml = 'Like what you see? Visit the ' +\n",
              "          '<a target=\"_blank\" href=https://colab.research.google.com/notebooks/data_table.ipynb>data table notebook</a>'\n",
              "          + ' to learn more about interactive tables.';\n",
              "        element.innerHTML = '';\n",
              "        dataTable['output_type'] = 'display_data';\n",
              "        await google.colab.output.renderOutput(dataTable, element);\n",
              "        const docLink = document.createElement('div');\n",
              "        docLink.innerHTML = docLinkHtml;\n",
              "        element.appendChild(docLink);\n",
              "      }\n",
              "    </script>\n",
              "  </div>\n",
              "\n",
              "\n",
              "<div id=\"df-32fa9123-811e-465c-89e4-602456ef2643\">\n",
              "  <button class=\"colab-df-quickchart\" onclick=\"quickchart('df-32fa9123-811e-465c-89e4-602456ef2643')\"\n",
              "            title=\"Suggest charts\"\n",
              "            style=\"display:none;\">\n",
              "\n",
              "<svg xmlns=\"http://www.w3.org/2000/svg\" height=\"24px\"viewBox=\"0 0 24 24\"\n",
              "     width=\"24px\">\n",
              "    <g>\n",
              "        <path d=\"M19 3H5c-1.1 0-2 .9-2 2v14c0 1.1.9 2 2 2h14c1.1 0 2-.9 2-2V5c0-1.1-.9-2-2-2zM9 17H7v-7h2v7zm4 0h-2V7h2v10zm4 0h-2v-4h2v4z\"/>\n",
              "    </g>\n",
              "</svg>\n",
              "  </button>\n",
              "\n",
              "<style>\n",
              "  .colab-df-quickchart {\n",
              "      --bg-color: #E8F0FE;\n",
              "      --fill-color: #1967D2;\n",
              "      --hover-bg-color: #E2EBFA;\n",
              "      --hover-fill-color: #174EA6;\n",
              "      --disabled-fill-color: #AAA;\n",
              "      --disabled-bg-color: #DDD;\n",
              "  }\n",
              "\n",
              "  [theme=dark] .colab-df-quickchart {\n",
              "      --bg-color: #3B4455;\n",
              "      --fill-color: #D2E3FC;\n",
              "      --hover-bg-color: #434B5C;\n",
              "      --hover-fill-color: #FFFFFF;\n",
              "      --disabled-bg-color: #3B4455;\n",
              "      --disabled-fill-color: #666;\n",
              "  }\n",
              "\n",
              "  .colab-df-quickchart {\n",
              "    background-color: var(--bg-color);\n",
              "    border: none;\n",
              "    border-radius: 50%;\n",
              "    cursor: pointer;\n",
              "    display: none;\n",
              "    fill: var(--fill-color);\n",
              "    height: 32px;\n",
              "    padding: 0;\n",
              "    width: 32px;\n",
              "  }\n",
              "\n",
              "  .colab-df-quickchart:hover {\n",
              "    background-color: var(--hover-bg-color);\n",
              "    box-shadow: 0 1px 2px rgba(60, 64, 67, 0.3), 0 1px 3px 1px rgba(60, 64, 67, 0.15);\n",
              "    fill: var(--button-hover-fill-color);\n",
              "  }\n",
              "\n",
              "  .colab-df-quickchart-complete:disabled,\n",
              "  .colab-df-quickchart-complete:disabled:hover {\n",
              "    background-color: var(--disabled-bg-color);\n",
              "    fill: var(--disabled-fill-color);\n",
              "    box-shadow: none;\n",
              "  }\n",
              "\n",
              "  .colab-df-spinner {\n",
              "    border: 2px solid var(--fill-color);\n",
              "    border-color: transparent;\n",
              "    border-bottom-color: var(--fill-color);\n",
              "    animation:\n",
              "      spin 1s steps(1) infinite;\n",
              "  }\n",
              "\n",
              "  @keyframes spin {\n",
              "    0% {\n",
              "      border-color: transparent;\n",
              "      border-bottom-color: var(--fill-color);\n",
              "      border-left-color: var(--fill-color);\n",
              "    }\n",
              "    20% {\n",
              "      border-color: transparent;\n",
              "      border-left-color: var(--fill-color);\n",
              "      border-top-color: var(--fill-color);\n",
              "    }\n",
              "    30% {\n",
              "      border-color: transparent;\n",
              "      border-left-color: var(--fill-color);\n",
              "      border-top-color: var(--fill-color);\n",
              "      border-right-color: var(--fill-color);\n",
              "    }\n",
              "    40% {\n",
              "      border-color: transparent;\n",
              "      border-right-color: var(--fill-color);\n",
              "      border-top-color: var(--fill-color);\n",
              "    }\n",
              "    60% {\n",
              "      border-color: transparent;\n",
              "      border-right-color: var(--fill-color);\n",
              "    }\n",
              "    80% {\n",
              "      border-color: transparent;\n",
              "      border-right-color: var(--fill-color);\n",
              "      border-bottom-color: var(--fill-color);\n",
              "    }\n",
              "    90% {\n",
              "      border-color: transparent;\n",
              "      border-bottom-color: var(--fill-color);\n",
              "    }\n",
              "  }\n",
              "</style>\n",
              "\n",
              "  <script>\n",
              "    async function quickchart(key) {\n",
              "      const quickchartButtonEl =\n",
              "        document.querySelector('#' + key + ' button');\n",
              "      quickchartButtonEl.disabled = true;  // To prevent multiple clicks.\n",
              "      quickchartButtonEl.classList.add('colab-df-spinner');\n",
              "      try {\n",
              "        const charts = await google.colab.kernel.invokeFunction(\n",
              "            'suggestCharts', [key], {});\n",
              "      } catch (error) {\n",
              "        console.error('Error during call to suggestCharts:', error);\n",
              "      }\n",
              "      quickchartButtonEl.classList.remove('colab-df-spinner');\n",
              "      quickchartButtonEl.classList.add('colab-df-quickchart-complete');\n",
              "    }\n",
              "    (() => {\n",
              "      let quickchartButtonEl =\n",
              "        document.querySelector('#df-32fa9123-811e-465c-89e4-602456ef2643 button');\n",
              "      quickchartButtonEl.style.display =\n",
              "        google.colab.kernel.accessAllowed ? 'block' : 'none';\n",
              "    })();\n",
              "  </script>\n",
              "</div>\n",
              "\n",
              "    </div>\n",
              "  </div>\n"
            ],
            "application/vnd.google.colaboratory.intrinsic+json": {
              "type": "dataframe",
              "summary": "{\n  \"name\": \"df[['cc_num', 'transaction_year', 'transaction_month']]\",\n  \"rows\": 100,\n  \"fields\": [\n    {\n      \"column\": \"cc_num\",\n      \"properties\": {\n        \"dtype\": \"number\",\n        \"std\": 6174,\n        \"min\": 4992346398065154184,\n        \"max\": 4992346398065154184,\n        \"num_unique_values\": 1,\n        \"samples\": [\n          4992346398065154184\n        ],\n        \"semantic_type\": \"\",\n        \"description\": \"\"\n      }\n    },\n    {\n      \"column\": \"transaction_year\",\n      \"properties\": {\n        \"dtype\": \"number\",\n        \"std\": 0,\n        \"min\": 2020,\n        \"max\": 2020,\n        \"num_unique_values\": 1,\n        \"samples\": [\n          2020\n        ],\n        \"semantic_type\": \"\",\n        \"description\": \"\"\n      }\n    },\n    {\n      \"column\": \"transaction_month\",\n      \"properties\": {\n        \"dtype\": \"number\",\n        \"std\": 0,\n        \"min\": 12,\n        \"max\": 12,\n        \"num_unique_values\": 1,\n        \"samples\": [\n          12\n        ],\n        \"semantic_type\": \"\",\n        \"description\": \"\"\n      }\n    }\n  ]\n}"
            }
          },
          "metadata": {},
          "execution_count": 12
        }
      ]
    },
    {
      "cell_type": "code",
      "execution_count": 28,
      "metadata": {
        "id": "7BzGPBuiph_T"
      },
      "outputs": [],
      "source": [
        "# 2. Feature Engineering\n",
        "# Sort by customer_id and timestamp\n",
        "df = df.sort_values(['cc_num', 'trans_date_trans_time'])\n",
        "df = df.drop(['trans_date_trans_time'], axis=1)"
      ]
    },
    {
      "cell_type": "code",
      "source": [
        "df = df[:100000]"
      ],
      "metadata": {
        "id": "EEV2yHKbK4Ri"
      },
      "execution_count": 25,
      "outputs": []
    },
    {
      "cell_type": "code",
      "source": [
        "df[['cc_num', 'transaction_year', 'transaction_month']].head(100)"
      ],
      "metadata": {
        "colab": {
          "base_uri": "https://localhost:8080/",
          "height": 423
        },
        "id": "UiyVGwbDyXrV",
        "outputId": "30d4fe32-a655-429a-c905-d064609736b5"
      },
      "execution_count": 27,
      "outputs": [
        {
          "output_type": "execute_result",
          "data": {
            "text/plain": [
              "         cc_num  transaction_year  transaction_month\n",
              "0   60416207185              2019                  1\n",
              "1   60416207185              2019                  1\n",
              "2   60416207185              2019                  1\n",
              "3   60416207185              2019                  1\n",
              "4   60416207185              2019                  1\n",
              "..          ...               ...                ...\n",
              "95  60416207185              2019                  2\n",
              "96  60416207185              2019                  2\n",
              "97  60416207185              2019                  2\n",
              "98  60416207185              2019                  2\n",
              "99  60416207185              2019                  2\n",
              "\n",
              "[100 rows x 3 columns]"
            ],
            "text/html": [
              "\n",
              "  <div id=\"df-5906c9fd-ba02-46d0-93c6-3ca9fbbbeebe\" class=\"colab-df-container\">\n",
              "    <div>\n",
              "<style scoped>\n",
              "    .dataframe tbody tr th:only-of-type {\n",
              "        vertical-align: middle;\n",
              "    }\n",
              "\n",
              "    .dataframe tbody tr th {\n",
              "        vertical-align: top;\n",
              "    }\n",
              "\n",
              "    .dataframe thead th {\n",
              "        text-align: right;\n",
              "    }\n",
              "</style>\n",
              "<table border=\"1\" class=\"dataframe\">\n",
              "  <thead>\n",
              "    <tr style=\"text-align: right;\">\n",
              "      <th></th>\n",
              "      <th>cc_num</th>\n",
              "      <th>transaction_year</th>\n",
              "      <th>transaction_month</th>\n",
              "    </tr>\n",
              "  </thead>\n",
              "  <tbody>\n",
              "    <tr>\n",
              "      <th>0</th>\n",
              "      <td>60416207185</td>\n",
              "      <td>2019</td>\n",
              "      <td>1</td>\n",
              "    </tr>\n",
              "    <tr>\n",
              "      <th>1</th>\n",
              "      <td>60416207185</td>\n",
              "      <td>2019</td>\n",
              "      <td>1</td>\n",
              "    </tr>\n",
              "    <tr>\n",
              "      <th>2</th>\n",
              "      <td>60416207185</td>\n",
              "      <td>2019</td>\n",
              "      <td>1</td>\n",
              "    </tr>\n",
              "    <tr>\n",
              "      <th>3</th>\n",
              "      <td>60416207185</td>\n",
              "      <td>2019</td>\n",
              "      <td>1</td>\n",
              "    </tr>\n",
              "    <tr>\n",
              "      <th>4</th>\n",
              "      <td>60416207185</td>\n",
              "      <td>2019</td>\n",
              "      <td>1</td>\n",
              "    </tr>\n",
              "    <tr>\n",
              "      <th>...</th>\n",
              "      <td>...</td>\n",
              "      <td>...</td>\n",
              "      <td>...</td>\n",
              "    </tr>\n",
              "    <tr>\n",
              "      <th>95</th>\n",
              "      <td>60416207185</td>\n",
              "      <td>2019</td>\n",
              "      <td>2</td>\n",
              "    </tr>\n",
              "    <tr>\n",
              "      <th>96</th>\n",
              "      <td>60416207185</td>\n",
              "      <td>2019</td>\n",
              "      <td>2</td>\n",
              "    </tr>\n",
              "    <tr>\n",
              "      <th>97</th>\n",
              "      <td>60416207185</td>\n",
              "      <td>2019</td>\n",
              "      <td>2</td>\n",
              "    </tr>\n",
              "    <tr>\n",
              "      <th>98</th>\n",
              "      <td>60416207185</td>\n",
              "      <td>2019</td>\n",
              "      <td>2</td>\n",
              "    </tr>\n",
              "    <tr>\n",
              "      <th>99</th>\n",
              "      <td>60416207185</td>\n",
              "      <td>2019</td>\n",
              "      <td>2</td>\n",
              "    </tr>\n",
              "  </tbody>\n",
              "</table>\n",
              "<p>100 rows × 3 columns</p>\n",
              "</div>\n",
              "    <div class=\"colab-df-buttons\">\n",
              "\n",
              "  <div class=\"colab-df-container\">\n",
              "    <button class=\"colab-df-convert\" onclick=\"convertToInteractive('df-5906c9fd-ba02-46d0-93c6-3ca9fbbbeebe')\"\n",
              "            title=\"Convert this dataframe to an interactive table.\"\n",
              "            style=\"display:none;\">\n",
              "\n",
              "  <svg xmlns=\"http://www.w3.org/2000/svg\" height=\"24px\" viewBox=\"0 -960 960 960\">\n",
              "    <path d=\"M120-120v-720h720v720H120Zm60-500h600v-160H180v160Zm220 220h160v-160H400v160Zm0 220h160v-160H400v160ZM180-400h160v-160H180v160Zm440 0h160v-160H620v160ZM180-180h160v-160H180v160Zm440 0h160v-160H620v160Z\"/>\n",
              "  </svg>\n",
              "    </button>\n",
              "\n",
              "  <style>\n",
              "    .colab-df-container {\n",
              "      display:flex;\n",
              "      gap: 12px;\n",
              "    }\n",
              "\n",
              "    .colab-df-convert {\n",
              "      background-color: #E8F0FE;\n",
              "      border: none;\n",
              "      border-radius: 50%;\n",
              "      cursor: pointer;\n",
              "      display: none;\n",
              "      fill: #1967D2;\n",
              "      height: 32px;\n",
              "      padding: 0 0 0 0;\n",
              "      width: 32px;\n",
              "    }\n",
              "\n",
              "    .colab-df-convert:hover {\n",
              "      background-color: #E2EBFA;\n",
              "      box-shadow: 0px 1px 2px rgba(60, 64, 67, 0.3), 0px 1px 3px 1px rgba(60, 64, 67, 0.15);\n",
              "      fill: #174EA6;\n",
              "    }\n",
              "\n",
              "    .colab-df-buttons div {\n",
              "      margin-bottom: 4px;\n",
              "    }\n",
              "\n",
              "    [theme=dark] .colab-df-convert {\n",
              "      background-color: #3B4455;\n",
              "      fill: #D2E3FC;\n",
              "    }\n",
              "\n",
              "    [theme=dark] .colab-df-convert:hover {\n",
              "      background-color: #434B5C;\n",
              "      box-shadow: 0px 1px 3px 1px rgba(0, 0, 0, 0.15);\n",
              "      filter: drop-shadow(0px 1px 2px rgba(0, 0, 0, 0.3));\n",
              "      fill: #FFFFFF;\n",
              "    }\n",
              "  </style>\n",
              "\n",
              "    <script>\n",
              "      const buttonEl =\n",
              "        document.querySelector('#df-5906c9fd-ba02-46d0-93c6-3ca9fbbbeebe button.colab-df-convert');\n",
              "      buttonEl.style.display =\n",
              "        google.colab.kernel.accessAllowed ? 'block' : 'none';\n",
              "\n",
              "      async function convertToInteractive(key) {\n",
              "        const element = document.querySelector('#df-5906c9fd-ba02-46d0-93c6-3ca9fbbbeebe');\n",
              "        const dataTable =\n",
              "          await google.colab.kernel.invokeFunction('convertToInteractive',\n",
              "                                                    [key], {});\n",
              "        if (!dataTable) return;\n",
              "\n",
              "        const docLinkHtml = 'Like what you see? Visit the ' +\n",
              "          '<a target=\"_blank\" href=https://colab.research.google.com/notebooks/data_table.ipynb>data table notebook</a>'\n",
              "          + ' to learn more about interactive tables.';\n",
              "        element.innerHTML = '';\n",
              "        dataTable['output_type'] = 'display_data';\n",
              "        await google.colab.output.renderOutput(dataTable, element);\n",
              "        const docLink = document.createElement('div');\n",
              "        docLink.innerHTML = docLinkHtml;\n",
              "        element.appendChild(docLink);\n",
              "      }\n",
              "    </script>\n",
              "  </div>\n",
              "\n",
              "\n",
              "<div id=\"df-fa49639e-1ce2-4cca-ab82-c69137aa771b\">\n",
              "  <button class=\"colab-df-quickchart\" onclick=\"quickchart('df-fa49639e-1ce2-4cca-ab82-c69137aa771b')\"\n",
              "            title=\"Suggest charts\"\n",
              "            style=\"display:none;\">\n",
              "\n",
              "<svg xmlns=\"http://www.w3.org/2000/svg\" height=\"24px\"viewBox=\"0 0 24 24\"\n",
              "     width=\"24px\">\n",
              "    <g>\n",
              "        <path d=\"M19 3H5c-1.1 0-2 .9-2 2v14c0 1.1.9 2 2 2h14c1.1 0 2-.9 2-2V5c0-1.1-.9-2-2-2zM9 17H7v-7h2v7zm4 0h-2V7h2v10zm4 0h-2v-4h2v4z\"/>\n",
              "    </g>\n",
              "</svg>\n",
              "  </button>\n",
              "\n",
              "<style>\n",
              "  .colab-df-quickchart {\n",
              "      --bg-color: #E8F0FE;\n",
              "      --fill-color: #1967D2;\n",
              "      --hover-bg-color: #E2EBFA;\n",
              "      --hover-fill-color: #174EA6;\n",
              "      --disabled-fill-color: #AAA;\n",
              "      --disabled-bg-color: #DDD;\n",
              "  }\n",
              "\n",
              "  [theme=dark] .colab-df-quickchart {\n",
              "      --bg-color: #3B4455;\n",
              "      --fill-color: #D2E3FC;\n",
              "      --hover-bg-color: #434B5C;\n",
              "      --hover-fill-color: #FFFFFF;\n",
              "      --disabled-bg-color: #3B4455;\n",
              "      --disabled-fill-color: #666;\n",
              "  }\n",
              "\n",
              "  .colab-df-quickchart {\n",
              "    background-color: var(--bg-color);\n",
              "    border: none;\n",
              "    border-radius: 50%;\n",
              "    cursor: pointer;\n",
              "    display: none;\n",
              "    fill: var(--fill-color);\n",
              "    height: 32px;\n",
              "    padding: 0;\n",
              "    width: 32px;\n",
              "  }\n",
              "\n",
              "  .colab-df-quickchart:hover {\n",
              "    background-color: var(--hover-bg-color);\n",
              "    box-shadow: 0 1px 2px rgba(60, 64, 67, 0.3), 0 1px 3px 1px rgba(60, 64, 67, 0.15);\n",
              "    fill: var(--button-hover-fill-color);\n",
              "  }\n",
              "\n",
              "  .colab-df-quickchart-complete:disabled,\n",
              "  .colab-df-quickchart-complete:disabled:hover {\n",
              "    background-color: var(--disabled-bg-color);\n",
              "    fill: var(--disabled-fill-color);\n",
              "    box-shadow: none;\n",
              "  }\n",
              "\n",
              "  .colab-df-spinner {\n",
              "    border: 2px solid var(--fill-color);\n",
              "    border-color: transparent;\n",
              "    border-bottom-color: var(--fill-color);\n",
              "    animation:\n",
              "      spin 1s steps(1) infinite;\n",
              "  }\n",
              "\n",
              "  @keyframes spin {\n",
              "    0% {\n",
              "      border-color: transparent;\n",
              "      border-bottom-color: var(--fill-color);\n",
              "      border-left-color: var(--fill-color);\n",
              "    }\n",
              "    20% {\n",
              "      border-color: transparent;\n",
              "      border-left-color: var(--fill-color);\n",
              "      border-top-color: var(--fill-color);\n",
              "    }\n",
              "    30% {\n",
              "      border-color: transparent;\n",
              "      border-left-color: var(--fill-color);\n",
              "      border-top-color: var(--fill-color);\n",
              "      border-right-color: var(--fill-color);\n",
              "    }\n",
              "    40% {\n",
              "      border-color: transparent;\n",
              "      border-right-color: var(--fill-color);\n",
              "      border-top-color: var(--fill-color);\n",
              "    }\n",
              "    60% {\n",
              "      border-color: transparent;\n",
              "      border-right-color: var(--fill-color);\n",
              "    }\n",
              "    80% {\n",
              "      border-color: transparent;\n",
              "      border-right-color: var(--fill-color);\n",
              "      border-bottom-color: var(--fill-color);\n",
              "    }\n",
              "    90% {\n",
              "      border-color: transparent;\n",
              "      border-bottom-color: var(--fill-color);\n",
              "    }\n",
              "  }\n",
              "</style>\n",
              "\n",
              "  <script>\n",
              "    async function quickchart(key) {\n",
              "      const quickchartButtonEl =\n",
              "        document.querySelector('#' + key + ' button');\n",
              "      quickchartButtonEl.disabled = true;  // To prevent multiple clicks.\n",
              "      quickchartButtonEl.classList.add('colab-df-spinner');\n",
              "      try {\n",
              "        const charts = await google.colab.kernel.invokeFunction(\n",
              "            'suggestCharts', [key], {});\n",
              "      } catch (error) {\n",
              "        console.error('Error during call to suggestCharts:', error);\n",
              "      }\n",
              "      quickchartButtonEl.classList.remove('colab-df-spinner');\n",
              "      quickchartButtonEl.classList.add('colab-df-quickchart-complete');\n",
              "    }\n",
              "    (() => {\n",
              "      let quickchartButtonEl =\n",
              "        document.querySelector('#df-fa49639e-1ce2-4cca-ab82-c69137aa771b button');\n",
              "      quickchartButtonEl.style.display =\n",
              "        google.colab.kernel.accessAllowed ? 'block' : 'none';\n",
              "    })();\n",
              "  </script>\n",
              "</div>\n",
              "\n",
              "    </div>\n",
              "  </div>\n"
            ],
            "application/vnd.google.colaboratory.intrinsic+json": {
              "type": "dataframe",
              "summary": "{\n  \"name\": \"df[['cc_num', 'transaction_year', 'transaction_month']]\",\n  \"rows\": 100,\n  \"fields\": [\n    {\n      \"column\": \"cc_num\",\n      \"properties\": {\n        \"dtype\": \"number\",\n        \"std\": 0,\n        \"min\": 60416207185,\n        \"max\": 60416207185,\n        \"num_unique_values\": 1,\n        \"samples\": [\n          60416207185\n        ],\n        \"semantic_type\": \"\",\n        \"description\": \"\"\n      }\n    },\n    {\n      \"column\": \"transaction_year\",\n      \"properties\": {\n        \"dtype\": \"number\",\n        \"std\": 0,\n        \"min\": 2019,\n        \"max\": 2019,\n        \"num_unique_values\": 1,\n        \"samples\": [\n          2019\n        ],\n        \"semantic_type\": \"\",\n        \"description\": \"\"\n      }\n    },\n    {\n      \"column\": \"transaction_month\",\n      \"properties\": {\n        \"dtype\": \"number\",\n        \"std\": 0,\n        \"min\": 1,\n        \"max\": 2,\n        \"num_unique_values\": 2,\n        \"samples\": [\n          2\n        ],\n        \"semantic_type\": \"\",\n        \"description\": \"\"\n      }\n    }\n  ]\n}"
            }
          },
          "metadata": {},
          "execution_count": 27
        }
      ]
    },
    {
      "cell_type": "code",
      "execution_count": 28,
      "metadata": {
        "id": "Fbf26eszwVD_"
      },
      "outputs": [],
      "source": [
        "def impute_scale(X_train, X_test):\n",
        "  #print(\"Starting imputer....\")\n",
        "  imputer = SimpleImputer(strategy='mean')\n",
        "  X_train_imputed = imputer.fit_transform(X_train)\n",
        "  X_test_imputed = imputer.transform(X_test)\n",
        "  #print(\"Done with imputer!\")\n",
        "\n",
        "  print(\"Starting Standard Scaler....\")\n",
        "  std_scaler = StandardScaler()\n",
        "  print(\"Starting Standard Scaler....Init\")\n",
        "  X_train_std_scaled = std_scaler.fit_transform(X_train_imputed)\n",
        "  print(\"Standard Scaler Fit train\")\n",
        "  X_test_std_scaled = std_scaler.transform(X_test_imputed)\n",
        "  print(\"Done with Standard Scaler!\")\n",
        "\n",
        "  #print(\"Starting MinMax Scaler....\")\n",
        "  minmax_scaler = MinMaxScaler()\n",
        "  #print(\"MinMax Scaler Init()\")\n",
        "  X_train_scaled = minmax_scaler.fit_transform(X_train_std_scaled)\n",
        "  #print(\"MinMax Scaler Init()\")\n",
        "  X_test_scaled = minmax_scaler.transform(X_test_std_scaled)\n",
        "  #print(\"Done with MinMax Scaler!\")\n",
        "  return X_train_std_scaled, X_test_std_scaled"
      ]
    },
    {
      "cell_type": "code",
      "execution_count": 29,
      "metadata": {
        "id": "zWEIPwU7BYyP"
      },
      "outputs": [],
      "source": [
        "# Create sequence data for each customer\n",
        "def create_sequences(data, window_size=10):\n",
        "    \"\"\"\n",
        "    Create sequence data for LSTM model\n",
        "    Each sequence consists of window_size consecutive transactions for a customer\n",
        "    \"\"\"\n",
        "    X_seq = []\n",
        "    y_seq = []\n",
        "\n",
        "    # Group by customer\n",
        "    cnt = 0\n",
        "    for customer, group in data.groupby('cc_num'):\n",
        "        if len(group) < window_size:\n",
        "            continue\n",
        "        #print(customer, \" customer:\", group)\n",
        "        # Numeric features for sequence\n",
        "        numeric_features = group.select_dtypes(include=['number'])\n",
        "        #print(customer, \" numeric features = \", numeric_features)\n",
        "        seq_data = group.values\n",
        "\n",
        "        # Create sequences\n",
        "        for i in range(len(group) - window_size):\n",
        "            X_seq.append(seq_data[i:i+window_size])\n",
        "            y_seq.append(group['is_fraud'].values[i+window_size])\n",
        "\n",
        "    return np.array(X_seq), np.array(y_seq)\n",
        "\n"
      ]
    },
    {
      "cell_type": "code",
      "source": [
        "df = df.drop(['trans_date_trans_time'], axis=1)"
      ],
      "metadata": {
        "id": "TglmlgDkzQW9"
      },
      "execution_count": null,
      "outputs": []
    },
    {
      "cell_type": "code",
      "execution_count": 38,
      "metadata": {
        "colab": {
          "base_uri": "https://localhost:8080/"
        },
        "id": "sA-g5sHfr9d-",
        "outputId": "c95374c6-d035-472e-8c67-789683e03d03"
      },
      "outputs": [
        {
          "output_type": "stream",
          "name": "stdout",
          "text": [
            "Sequence data shape: (99720, 5, 37), Labels shape: (99720,)\n"
          ]
        }
      ],
      "source": [
        "# Create sequences\n",
        "window_size = 5  # Use 5 previous transactions to predict the next one\n",
        "X_seq, y_seq = create_sequences(df, window_size)\n",
        "print(f\"Sequence data shape: {X_seq.shape}, Labels shape: {y_seq.shape}\")"
      ]
    },
    {
      "cell_type": "code",
      "source": [],
      "metadata": {
        "id": "4ZiQTEZZy_dv"
      },
      "execution_count": 34,
      "outputs": []
    },
    {
      "cell_type": "code",
      "execution_count": 39,
      "metadata": {
        "id": "wBn88mtjBVzm"
      },
      "outputs": [],
      "source": [
        "# 3. Split the data\n",
        "X_train, X_test, y_train, y_test = train_test_split(\n",
        "    X_seq, y_seq, test_size=0.2, random_state=42, stratify=y_seq)"
      ]
    },
    {
      "cell_type": "code",
      "execution_count": 40,
      "metadata": {
        "id": "az2MQ-WWKZ_s"
      },
      "outputs": [],
      "source": [
        "# 4. Standardize features\n",
        "# Reshape to 2D for standardization\n",
        "n_samples, n_timesteps, n_features = X_train.shape\n",
        "X_train_reshaped = X_train.reshape(-1, n_features)\n",
        "X_test_reshaped = X_test.reshape(-1, n_features)"
      ]
    },
    {
      "cell_type": "code",
      "execution_count": 41,
      "metadata": {
        "id": "UFFy0xTcO_qm"
      },
      "outputs": [],
      "source": [
        "imputer = SimpleImputer(strategy='mean')\n",
        "X_train_imputed = imputer.fit_transform(X_train_reshaped)\n",
        "X_test_imputed = imputer.transform(X_test_reshaped)"
      ]
    },
    {
      "cell_type": "code",
      "execution_count": 42,
      "metadata": {
        "id": "zP_B_OKWLyHx"
      },
      "outputs": [],
      "source": [
        "# Standardize\n",
        "scaler = StandardScaler()\n",
        "X_train_scaled = scaler.fit_transform(X_train_imputed)\n",
        "X_test_scaled = scaler.transform(X_test_imputed)"
      ]
    },
    {
      "cell_type": "code",
      "execution_count": null,
      "metadata": {
        "id": "GstUFWIXXxeI"
      },
      "outputs": [],
      "source": [
        "# MinMax Standardize\n",
        "#scaler = MinMaxScaler()\n",
        "#X_train_scaled = scaler.fit_transform(X_train_scaled)\n",
        "#X_test_scaled = scaler.transform(X_test_scaled)"
      ]
    },
    {
      "cell_type": "code",
      "execution_count": 43,
      "metadata": {
        "id": "NcwmdgGVBTPP"
      },
      "outputs": [],
      "source": [
        "\n",
        "\n",
        "#X_train_scaled, X_test_scaled = impute_scale(X_train_reshaped, X_test_reshaped)\n",
        "\n",
        "\n",
        "# Reshape back to 3D\n",
        "X_train_scaled = X_train_scaled.reshape(X_train.shape)\n",
        "X_test_scaled = X_test_scaled.reshape(X_test.shape)"
      ]
    },
    {
      "cell_type": "code",
      "execution_count": null,
      "metadata": {
        "colab": {
          "base_uri": "https://localhost:8080/"
        },
        "id": "2cc5H11NSQWL",
        "outputId": "5bb4a776-c6a9-47a0-dfa4-8be105ec8084"
      },
      "outputs": [
        {
          "data": {
            "text/plain": [
              "(1477919, 5, 37)"
            ]
          },
          "execution_count": 16,
          "metadata": {},
          "output_type": "execute_result"
        }
      ],
      "source": [
        "X_train_scaled.shape"
      ]
    },
    {
      "cell_type": "code",
      "execution_count": 44,
      "metadata": {
        "id": "hXf68dG9CdcW"
      },
      "outputs": [],
      "source": [
        "# 5. Create PyTorch dataset and dataloader\n",
        "class FraudDataset(Dataset):\n",
        "    def __init__(self, X, y):\n",
        "        self.X = torch.FloatTensor(X)\n",
        "        self.y = torch.FloatTensor(y)\n",
        "\n",
        "    def __len__(self):\n",
        "        return len(self.X)\n",
        "\n",
        "    def __getitem__(self, idx):\n",
        "        return self.X[idx], self.y[idx]"
      ]
    },
    {
      "cell_type": "code",
      "execution_count": 45,
      "metadata": {
        "colab": {
          "base_uri": "https://localhost:8080/"
        },
        "id": "L06BRgEiMWYU",
        "outputId": "7a90039d-8bff-4e67-b6d7-f986b6a53150"
      },
      "outputs": [
        {
          "output_type": "stream",
          "name": "stdout",
          "text": [
            "n_neg =  79370\n",
            "n_pos =  406\n"
          ]
        }
      ],
      "source": [
        "# Calculate class weights for imbalanced data\n",
        "n_neg, n_pos = np.bincount(y_train.astype(int))\n",
        "print(\"n_neg = \", n_neg)\n",
        "print(\"n_pos = \", n_pos)"
      ]
    },
    {
      "cell_type": "code",
      "execution_count": 46,
      "metadata": {
        "colab": {
          "base_uri": "https://localhost:8080/"
        },
        "id": "J3gJgRpxBRNW",
        "outputId": "0a178908-8a34-4804-bc7b-98381f8ac23d"
      },
      "outputs": [
        {
          "output_type": "stream",
          "name": "stdout",
          "text": [
            "Positive class weight: 195.49261083743843\n"
          ]
        }
      ],
      "source": [
        "\n",
        "\n",
        "\n",
        "pos_weight = torch.tensor([n_neg/n_pos])\n",
        "print(f\"Positive class weight: {pos_weight.item()}\")\n",
        "\n",
        "# Create datasets and dataloaders\n",
        "batch_size = 64\n",
        "train_dataset = FraudDataset(X_train_scaled, y_train)\n",
        "test_dataset = FraudDataset(X_test_scaled, y_test)\n",
        "\n",
        "train_loader = DataLoader(train_dataset, batch_size=batch_size, shuffle=True)\n",
        "test_loader = DataLoader(test_dataset, batch_size=batch_size)"
      ]
    },
    {
      "cell_type": "code",
      "execution_count": 47,
      "metadata": {
        "id": "jOJJ5g6pEkhO"
      },
      "outputs": [],
      "source": [
        "# 6. Define the LSTM model\n",
        "class LSTMModel(nn.Module):\n",
        "    def __init__(self, input_size, hidden_size1, hidden_size2, output_size, dropout_rate=0.3):\n",
        "        super(LSTMModel, self).__init__()\n",
        "        self.hidden_size1 = hidden_size1\n",
        "        self.hidden_size2 = hidden_size2\n",
        "        self.dropout_rate = dropout_rate\n",
        "\n",
        "        # First LSTM layer\n",
        "        self.lstm1 = nn.LSTM(input_size, hidden_size1, batch_first=True)\n",
        "        self.dropout1 = nn.Dropout(dropout_rate)\n",
        "\n",
        "        # Second LSTM layer\n",
        "        self.lstm2 = nn.LSTM(hidden_size1, hidden_size2, batch_first=True)\n",
        "        self.dropout2 = nn.Dropout(dropout_rate)\n",
        "\n",
        "        # Fully connected layers\n",
        "        self.fc1 = nn.Linear(hidden_size2, 16)\n",
        "        self.relu = nn.ReLU()\n",
        "        self.fc2 = nn.Linear(16, output_size)\n",
        "        self.sigmoid = nn.Sigmoid()\n",
        "\n",
        "    def forward(self, x):\n",
        "        # Input shape: batch_size x seq_len x input_size\n",
        "\n",
        "        # First LSTM layer\n",
        "        lstm1_out, _ = self.lstm1(x)\n",
        "        lstm1_out = self.dropout1(lstm1_out)\n",
        "\n",
        "        # Second LSTM layer\n",
        "        lstm2_out, _ = self.lstm2(lstm1_out)\n",
        "        lstm2_out = self.dropout2(lstm2_out)\n",
        "\n",
        "        # Extract the output of the last time step\n",
        "        lstm2_out = lstm2_out[:, -1, :]\n",
        "\n",
        "        # Fully connected layers\n",
        "        fc1_out = self.relu(self.fc1(lstm2_out))\n",
        "        output = self.fc2(fc1_out)\n",
        "        #output = self.sigmoid(fc2_out)\n",
        "\n",
        "        return output"
      ]
    },
    {
      "cell_type": "code",
      "execution_count": 48,
      "metadata": {
        "colab": {
          "base_uri": "https://localhost:8080/"
        },
        "id": "dYvr61gABN3i",
        "outputId": "750eb22e-447e-4b6f-8da4-c32486a52d7e"
      },
      "outputs": [
        {
          "output_type": "stream",
          "name": "stdout",
          "text": [
            "LSTMModel(\n",
            "  (lstm1): LSTM(37, 64, batch_first=True)\n",
            "  (dropout1): Dropout(p=0.3, inplace=False)\n",
            "  (lstm2): LSTM(64, 32, batch_first=True)\n",
            "  (dropout2): Dropout(p=0.3, inplace=False)\n",
            "  (fc1): Linear(in_features=32, out_features=16, bias=True)\n",
            "  (relu): ReLU()\n",
            "  (fc2): Linear(in_features=16, out_features=1, bias=True)\n",
            "  (sigmoid): Sigmoid()\n",
            ")\n"
          ]
        }
      ],
      "source": [
        "\n",
        "# Initialize model\n",
        "input_size = X_train_scaled.shape[2]  # Number of features\n",
        "hidden_size1 = 64\n",
        "hidden_size2 = 32\n",
        "output_size = 1  # Binary output\n",
        "\n",
        "model = LSTMModel(input_size, hidden_size1, hidden_size2, output_size)\n",
        "model = model.to(device)\n",
        "print(model)\n",
        "\n",
        "# 7. Define loss function and optimizer\n",
        "criterion = nn.BCEWithLogitsLoss(pos_weight=pos_weight.to(device))  # Binary Cross Entropy with class weights\n",
        "optimizer = optim.Adam(model.parameters(), lr=0.001)"
      ]
    },
    {
      "cell_type": "code",
      "execution_count": 49,
      "metadata": {
        "id": "3gAIsNKrBK7f"
      },
      "outputs": [],
      "source": [
        "# 8. Training function\n",
        "def train_model(model, train_loader, criterion, optimizer, num_epochs=20):\n",
        "    model.train()\n",
        "    history = {\n",
        "        'train_loss': [],\n",
        "        'train_acc': [],\n",
        "        'val_loss': [],\n",
        "        'val_acc': [],\n",
        "        'val_auc': []\n",
        "    }\n",
        "\n",
        "    # For early stopping\n",
        "    best_val_auc = 0\n",
        "    patience = 5\n",
        "    counter = 0\n",
        "\n",
        "    for epoch in range(num_epochs):\n",
        "        running_loss = 0.0\n",
        "        correct = 0\n",
        "        total = 0\n",
        "\n",
        "        # Training loop\n",
        "        for inputs, labels in tqdm(train_loader, desc=f\"Epoch {epoch+1}/{num_epochs}\"):\n",
        "            inputs, labels = inputs.to(device), labels.to(device)\n",
        "\n",
        "            # Zero the parameter gradients\n",
        "            optimizer.zero_grad()\n",
        "\n",
        "            # Forward pass\n",
        "            outputs = model(inputs)\n",
        "            outputs = outputs.squeeze()\n",
        "\n",
        "            # Calculate loss\n",
        "            loss = criterion(outputs, labels)\n",
        "\n",
        "            # Backward and optimize\n",
        "            loss.backward()\n",
        "            optimizer.step()\n",
        "\n",
        "            # Track statistics\n",
        "            running_loss += loss.item() * inputs.size(0)\n",
        "            predicted = (outputs > 0.5).float()\n",
        "            total += labels.size(0)\n",
        "            correct += (predicted == labels).sum().item()\n",
        "\n",
        "        # Calculate epoch statistics\n",
        "        epoch_loss = running_loss / len(train_loader.dataset)\n",
        "        epoch_acc = correct / total\n",
        "\n",
        "        # Validation\n",
        "        val_loss, val_acc, val_auc = evaluate_model(model, test_loader, criterion)\n",
        "\n",
        "        # Print stats\n",
        "        print(f'Epoch {epoch+1}/{num_epochs}')\n",
        "        print(f'Train Loss: {epoch_loss:.4f}, Train Acc: {epoch_acc:.4f}')\n",
        "        print(f'Val Loss: {val_loss:.4f}, Val Acc: {val_acc:.4f}, Val AUC: {val_auc:.4f}')\n",
        "        print('-' * 50)\n",
        "\n",
        "        # Save history\n",
        "        history['train_loss'].append(epoch_loss)\n",
        "        history['train_acc'].append(epoch_acc)\n",
        "        history['val_loss'].append(val_loss)\n",
        "        history['val_acc'].append(val_acc)\n",
        "        history['val_auc'].append(val_auc)\n",
        "\n",
        "        # Early stopping\n",
        "        if val_auc > best_val_auc:\n",
        "            best_val_auc = val_auc\n",
        "            counter = 0\n",
        "            # Save best model\n",
        "            torch.save(model.state_dict(), 'best_lstm_model.pt')\n",
        "        else:\n",
        "            counter += 1\n",
        "\n",
        "        if counter >= patience:\n",
        "            print(f'Early stopping at epoch {epoch+1}')\n",
        "            break\n",
        "\n",
        "    # Load best model\n",
        "    model.load_state_dict(torch.load('best_lstm_model.pt'))\n",
        "    return model, history"
      ]
    },
    {
      "cell_type": "code",
      "execution_count": 50,
      "metadata": {
        "id": "UsEHvJF6BIee"
      },
      "outputs": [],
      "source": [
        "# 9. Evaluation function\n",
        "def evaluate_model(model, data_loader, criterion):\n",
        "    model.eval()\n",
        "    running_loss = 0.0\n",
        "    correct = 0\n",
        "    total = 0\n",
        "    all_probs = []\n",
        "    all_labels = []\n",
        "\n",
        "    with torch.no_grad():\n",
        "        for inputs, labels in data_loader:\n",
        "            inputs, labels = inputs.to(device), labels.to(device)\n",
        "\n",
        "            # Forward pass\n",
        "            outputs = model(inputs)\n",
        "            outputs = outputs.squeeze()\n",
        "\n",
        "            # Calculate loss\n",
        "            loss = criterion(outputs, labels)\n",
        "\n",
        "            # Track statistics\n",
        "            running_loss += loss.item() * inputs.size(0)\n",
        "            predicted = (outputs > 0.5).float()\n",
        "            total += labels.size(0)\n",
        "            correct += (predicted == labels).sum().item()\n",
        "\n",
        "            # Save probabilities and labels for AUC calculation\n",
        "            all_probs.extend(outputs.cpu().numpy())\n",
        "            all_labels.extend(labels.cpu().numpy())\n",
        "\n",
        "    # Calculate statistics\n",
        "    loss = running_loss / len(data_loader.dataset)\n",
        "    acc = correct / total\n",
        "\n",
        "    # Calculate AUC\n",
        "    fpr, tpr, _ = roc_curve(all_labels, all_probs)\n",
        "    roc_auc = auc(fpr, tpr)\n",
        "\n",
        "    return loss, acc, roc_auc\n",
        "\n"
      ]
    },
    {
      "cell_type": "code",
      "execution_count": 51,
      "metadata": {
        "colab": {
          "base_uri": "https://localhost:8080/"
        },
        "id": "jaSFe-19mVlI",
        "outputId": "95bc4621-887f-4f92-f701-c8b6658e0ee2"
      },
      "outputs": [
        {
          "output_type": "stream",
          "name": "stderr",
          "text": [
            "Epoch 1/2: 100%|██████████| 1247/1247 [00:10<00:00, 124.56it/s]\n"
          ]
        },
        {
          "output_type": "stream",
          "name": "stdout",
          "text": [
            "Epoch 1/2\n",
            "Train Loss: 0.4617, Train Acc: 0.9947\n",
            "Val Loss: 0.3173, Val Acc: 0.9981, Val AUC: 0.9596\n",
            "--------------------------------------------------\n"
          ]
        },
        {
          "output_type": "stream",
          "name": "stderr",
          "text": [
            "Epoch 2/2: 100%|██████████| 1247/1247 [00:09<00:00, 126.81it/s]\n"
          ]
        },
        {
          "output_type": "stream",
          "name": "stdout",
          "text": [
            "Epoch 2/2\n",
            "Train Loss: 0.3290, Train Acc: 0.9985\n",
            "Val Loss: 0.3011, Val Acc: 0.9987, Val AUC: 0.9674\n",
            "--------------------------------------------------\n"
          ]
        }
      ],
      "source": [
        "# 10. Train the model\n",
        "model, history = train_model(model, train_loader, criterion, optimizer, num_epochs=2)"
      ]
    },
    {
      "cell_type": "code",
      "execution_count": 52,
      "metadata": {
        "id": "_3-RxNvWBGX2",
        "colab": {
          "base_uri": "https://localhost:8080/",
          "height": 507
        },
        "outputId": "1e1ee54a-151d-444f-845c-f211b884c9b5"
      },
      "outputs": [
        {
          "output_type": "display_data",
          "data": {
            "text/plain": [
              "<Figure size 1200x500 with 3 Axes>"
            ],
            "image/png": "[encoded data removed]"
          },
          "metadata": {}
        }
      ],
      "source": [
        "# 11. Plot training history\n",
        "def plot_training_history(history):\n",
        "    plt.figure(figsize=(12, 5))\n",
        "\n",
        "    # Loss plot\n",
        "    plt.subplot(1, 3, 1)\n",
        "    plt.plot(history['train_loss'], label='Train Loss')\n",
        "    plt.plot(history['val_loss'], label='Validation Loss')\n",
        "    plt.xlabel('Epoch')\n",
        "    plt.ylabel('Loss')\n",
        "    plt.title('Training and Validation Loss')\n",
        "    plt.legend()\n",
        "\n",
        "    # Accuracy plot\n",
        "    plt.subplot(1, 3, 2)\n",
        "    plt.plot(history['train_acc'], label='Train Accuracy')\n",
        "    plt.plot(history['val_acc'], label='Validation Accuracy')\n",
        "    plt.xlabel('Epoch')\n",
        "    plt.ylabel('Accuracy')\n",
        "    plt.title('Training and Validation Accuracy')\n",
        "    plt.legend()\n",
        "\n",
        "    # AUC plot\n",
        "    plt.subplot(1, 3, 3)\n",
        "    plt.plot(history['val_auc'], label='Validation AUC')\n",
        "    plt.xlabel('Epoch')\n",
        "    plt.ylabel('AUC')\n",
        "    plt.title('Validation AUC')\n",
        "    plt.legend()\n",
        "\n",
        "    plt.tight_layout()\n",
        "    plt.show()\n",
        "\n",
        "plot_training_history(history)"
      ]
    },
    {
      "cell_type": "code",
      "execution_count": 53,
      "metadata": {
        "id": "Tj-lzjB_BEVI",
        "colab": {
          "base_uri": "https://localhost:8080/"
        },
        "outputId": "abe5d21f-d630-4a08-ec30-55496b2ce3b6"
      },
      "outputs": [
        {
          "output_type": "stream",
          "name": "stdout",
          "text": [
            "Final Test Loss: 0.3011\n",
            "Final Test Accuracy: 0.9987\n",
            "Final Test AUC: 0.9674\n"
          ]
        }
      ],
      "source": [
        "# 12. Final evaluation\n",
        "test_loss, test_acc, test_auc = evaluate_model(model, test_loader, criterion)\n",
        "print(f\"Final Test Loss: {test_loss:.4f}\")\n",
        "print(f\"Final Test Accuracy: {test_acc:.4f}\")\n",
        "print(f\"Final Test AUC: {test_auc:.4f}\")"
      ]
    },
    {
      "cell_type": "code",
      "execution_count": 54,
      "metadata": {
        "id": "IUFhjBBgBCiB",
        "colab": {
          "base_uri": "https://localhost:8080/"
        },
        "outputId": "e99dc91d-a2eb-4cbd-d738-8c33810b4f13"
      },
      "outputs": [
        {
          "output_type": "stream",
          "name": "stdout",
          "text": [
            "\n",
            "Classification Report:\n",
            "              precision    recall  f1-score   support\n",
            "\n",
            "         0.0       1.00      1.00      1.00     19843\n",
            "         1.0       0.85      0.92      0.88       101\n",
            "\n",
            "    accuracy                           1.00     19944\n",
            "   macro avg       0.92      0.96      0.94     19944\n",
            "weighted avg       1.00      1.00      1.00     19944\n",
            "\n",
            "\n",
            "Confusion Matrix:\n",
            "[[19826    17]\n",
            " [    8    93]]\n"
          ]
        }
      ],
      "source": [
        "# 13. Get predictions for the test set\n",
        "model.eval()\n",
        "all_probs = []\n",
        "all_preds = []\n",
        "all_labels = []\n",
        "\n",
        "with torch.no_grad():\n",
        "    for inputs, labels in test_loader:\n",
        "        inputs, labels = inputs.to(device), labels.to(device)\n",
        "        outputs = model(inputs).squeeze()\n",
        "        preds = (outputs > 0.5).float()\n",
        "\n",
        "        all_probs.extend(outputs.cpu().numpy())\n",
        "        all_preds.extend(preds.cpu().numpy())\n",
        "        all_labels.extend(labels.cpu().numpy())\n",
        "\n",
        "# 14. Classification report and confusion matrix\n",
        "print(\"\\nClassification Report:\")\n",
        "print(classification_report(all_labels, all_preds))\n",
        "\n",
        "cm = confusion_matrix(all_labels, all_preds)\n",
        "print(\"\\nConfusion Matrix:\")\n",
        "print(cm)"
      ]
    },
    {
      "cell_type": "code",
      "execution_count": 55,
      "metadata": {
        "id": "Nzte-_gaBA3O",
        "colab": {
          "base_uri": "https://localhost:8080/",
          "height": 564
        },
        "outputId": "49752820-3d16-4f47-8259-cd5aecff6ead"
      },
      "outputs": [
        {
          "output_type": "display_data",
          "data": {
            "text/plain": [
              "<Figure size 800x600 with 2 Axes>"
            ],
            "image/png": "[encoded data removed]"
          },
          "metadata": {}
        }
      ],
      "source": [
        "# 15. Plot confusion matrix\n",
        "plt.figure(figsize=(8, 6))\n",
        "sns.heatmap(cm, annot=True, fmt='d', cmap='Blues')\n",
        "plt.xlabel('Predicted')\n",
        "plt.ylabel('Actual')\n",
        "plt.title('Confusion Matrix')\n",
        "plt.show()"
      ]
    },
    {
      "cell_type": "code",
      "execution_count": 56,
      "metadata": {
        "id": "oMtk_6q3A-L4",
        "colab": {
          "base_uri": "https://localhost:8080/",
          "height": 507
        },
        "outputId": "e2c43fc7-1ff5-476f-8ea2-f2c6c27bb6b7"
      },
      "outputs": [
        {
          "output_type": "display_data",
          "data": {
            "text/plain": [
              "<Figure size 1200x500 with 2 Axes>"
            ],
            "image/png": "[encoded data removed]"
          },
          "metadata": {}
        }
      ],
      "source": [
        "# 16. Plot ROC curve and Precision-Recall curve\n",
        "def plot_performance_curves(y_true, y_pred_proba):\n",
        "    plt.figure(figsize=(12, 5))\n",
        "\n",
        "    # ROC curve\n",
        "    plt.subplot(1, 2, 1)\n",
        "    fpr, tpr, _ = roc_curve(y_true, y_pred_proba)\n",
        "    roc_auc = auc(fpr, tpr)\n",
        "    plt.plot(fpr, tpr, color='blue', lw=2, label=f'ROC curve (AUC = {roc_auc:.4f})')\n",
        "    plt.plot([0, 1], [0, 1], color='gray', lw=1, linestyle='--')\n",
        "    plt.xlim([0.0, 1.0])\n",
        "    plt.ylim([0.0, 1.05])\n",
        "    plt.xlabel('False Positive Rate')\n",
        "    plt.ylabel('True Positive Rate')\n",
        "    plt.title('Receiver Operating Characteristic')\n",
        "    plt.legend(loc=\"lower right\")\n",
        "\n",
        "    # Precision-Recall curve\n",
        "    plt.subplot(1, 2, 2)\n",
        "    precision, recall, _ = precision_recall_curve(y_true, y_pred_proba)\n",
        "    pr_auc = auc(recall, precision)\n",
        "    plt.plot(recall, precision, color='green', lw=2, label=f'PR curve (AUC = {pr_auc:.4f})')\n",
        "    plt.axhline(y=sum(y_true)/len(y_true), color='gray', lw=1, linestyle='--')\n",
        "    plt.xlim([0.0, 1.0])\n",
        "    plt.ylim([0.0, 1.05])\n",
        "    plt.xlabel('Recall')\n",
        "    plt.ylabel('Precision')\n",
        "    plt.title('Precision-Recall Curve')\n",
        "    plt.legend(loc=\"lower left\")\n",
        "\n",
        "    plt.tight_layout()\n",
        "    plt.show()\n",
        "\n",
        "# Plot curves\n",
        "plot_performance_curves(all_labels, all_probs)"
      ]
    },
    {
      "cell_type": "code",
      "execution_count": 57,
      "metadata": {
        "id": "0KDlPuKAA7TP",
        "colab": {
          "base_uri": "https://localhost:8080/"
        },
        "outputId": "2ab2e82f-f685-461a-85a7-711c477c9e4d"
      },
      "outputs": [
        {
          "output_type": "stream",
          "name": "stdout",
          "text": [
            "\n",
            "Sample Fraud Probabilities:\n",
            "Sequence 1: -2.3050 (Normal)\n",
            "Sequence 2: -2.5423 (Normal)\n",
            "Sequence 3: -2.4324 (Normal)\n"
          ]
        }
      ],
      "source": [
        "# 17. Function to make predictions on new data\n",
        "def predict_fraud(model, new_data, scaler):\n",
        "    \"\"\"\n",
        "    Make predictions on new sequence data\n",
        "\n",
        "    Args:\n",
        "        model: Trained LSTM model\n",
        "        new_data: New transaction data as NumPy array with shape (n_samples, window_size, n_features)\n",
        "        scaler: The fitted StandardScaler\n",
        "\n",
        "    Returns:\n",
        "        Fraud probabilities for each sequence\n",
        "    \"\"\"\n",
        "    model.eval()\n",
        "\n",
        "    # Ensure proper shape\n",
        "    if len(new_data.shape) == 2:\n",
        "        new_data = np.expand_dims(new_data, axis=0)\n",
        "\n",
        "    # Reshape for scaling\n",
        "    n_samples, n_timesteps, n_features = new_data.shape\n",
        "    new_data_reshaped = new_data.reshape(-1, n_features)\n",
        "\n",
        "    # Scale\n",
        "    new_data_scaled = scaler.transform(new_data_reshaped)\n",
        "\n",
        "    # Reshape back\n",
        "    new_data_scaled = new_data_scaled.reshape(new_data.shape)\n",
        "\n",
        "    # Convert to tensor\n",
        "    new_data_tensor = torch.FloatTensor(new_data_scaled).to(device)\n",
        "\n",
        "    # Predict\n",
        "    with torch.no_grad():\n",
        "        fraud_probabilities = model(new_data_tensor).squeeze().cpu().numpy()\n",
        "\n",
        "    return fraud_probabilities\n",
        "\n",
        "# Example of using the prediction function\n",
        "# In a real-world scenario, you would have new transaction data\n",
        "sample_new_data = X_test[:3]  # Just using a few test samples as an example\n",
        "fraud_probs = predict_fraud(model, sample_new_data, scaler)\n",
        "print(\"\\nSample Fraud Probabilities:\")\n",
        "for i, prob in enumerate(fraud_probs):\n",
        "    print(f\"Sequence {i+1}: {prob:.4f} ({'Fraud' if prob > 0.5 else 'Normal'})\")"
      ]
    },
    {
      "cell_type": "code",
      "execution_count": null,
      "metadata": {
        "id": "hPwxaYzmA5cw"
      },
      "outputs": [],
      "source": [
        "# 18. Save the model\n",
        "torch.save({\n",
        "    'model_state_dict': model.state_dict(),\n",
        "    'optimizer_state_dict': optimizer.state_dict(),\n",
        "    'scaler': scaler,\n",
        "    'input_size': input_size,\n",
        "    'hidden_size1': hidden_size1,\n",
        "    'hidden_size2': hidden_size2,\n",
        "    'output_size': output_size\n",
        "}, 'lstm_fraud_detection_model.pt')\n",
        "print(\"\\nModel saved to 'lstm_fraud_detection_model.pt'\")"
      ]
    },
    {
      "cell_type": "code",
      "execution_count": null,
      "metadata": {
        "id": "ExsC3vzVA3fh"
      },
      "outputs": [],
      "source": [
        "# 19. Function to load the model\n",
        "def load_fraud_detection_model(model_path):\n",
        "    \"\"\"\n",
        "    Load the trained fraud detection model\n",
        "\n",
        "    Args:\n",
        "        model_path: Path to the saved model\n",
        "\n",
        "    Returns:\n",
        "        Loaded model and scaler\n",
        "    \"\"\"\n",
        "    checkpoint = torch.load(model_path, map_location=device)\n",
        "\n",
        "    # Create model with the same architecture\n",
        "    model = LSTMModel(\n",
        "        checkpoint['input_size'],\n",
        "        checkpoint['hidden_size1'],\n",
        "        checkpoint['hidden_size2'],\n",
        "        checkpoint['output_size']\n",
        "    )\n",
        "\n",
        "    # Load weights\n",
        "    model.load_state_dict(checkpoint['model_state_dict'])\n",
        "    model = model.to(device)\n",
        "    model.eval()\n",
        "\n",
        "    # Get scaler\n",
        "    scaler = checkpoint['scaler']\n",
        "\n",
        "    return model, scaler\n",
        "\n",
        "# Example of loading the model\n",
        "# loaded_model, loaded_scaler = load_fraud_detection_model('lstm_fraud_detection_model.pt')"
      ]
    },
    {
      "cell_type": "code",
      "execution_count": null,
      "metadata": {
        "id": "GpsyaFvl_AG5"
      },
      "outputs": [],
      "source": [
        "\n",
        "# 1. Load and prepare the data\n",
        "# Replace this with your actual data loading code\n",
        "def load_data():\n",
        "    \"\"\"\n",
        "    Sample function to load fraud data\n",
        "    In a real scenario, you would load your data from a file or database\n",
        "    \"\"\"\n",
        "    # For this example, we'll create synthetic data\n",
        "    # Real fraud detection would use transaction data with timestamps\n",
        "\n",
        "    # Features that might be relevant:\n",
        "    # - Transaction amount\n",
        "    # - Time since last transaction\n",
        "    # - Transaction location (encoded)\n",
        "    # - Transaction type (encoded)\n",
        "    # - Device used\n",
        "    # - etc.\n",
        "\n",
        "    n_samples = 10000\n",
        "    n_features = 10\n",
        "\n",
        "    # Generate features\n",
        "    X = np.random.randn(n_samples, n_features)\n",
        "\n",
        "    # Generate target (fraud is typically rare - e.g. 1-2%)\n",
        "    fraud_rate = 0.02\n",
        "    y = np.random.choice([0, 1], size=n_samples, p=[1-fraud_rate, fraud_rate])\n",
        "\n",
        "    # Create a DataFrame to simulate real-world data\n",
        "    feature_names = [f'feature_{i}' for i in range(n_features)]\n",
        "    df = pd.DataFrame(X, columns=feature_names)\n",
        "    df['transaction_amount'] = np.abs(np.random.normal(100, 200, n_samples))\n",
        "    df['transaction_type'] = np.random.choice(['online', 'in_store', 'mobile'], n_samples)\n",
        "    df['customer_id'] = np.random.randint(1, 1000, n_samples)\n",
        "    df['timestamp'] = pd.date_range(start='2023-01-01', periods=n_samples, freq='5min')\n",
        "    df['is_fraud'] = y\n",
        "\n",
        "    return df\n",
        "\n",
        "# Load data\n",
        "df = load_data()\n",
        "print(f\"Data shape: {df.shape}\")\n",
        "print(f\"Fraud rate: {df['is_fraud'].mean():.2%}\")\n",
        "\n"
      ]
    },
    {
      "cell_type": "code",
      "execution_count": null,
      "metadata": {
        "id": "2MZ1gTp6_dlX"
      },
      "outputs": [],
      "source": [
        "# 2. Feature Engineering\n",
        "# Sort by customer_id and timestamp\n",
        "df = df.sort_values(['customer_id', 'timestamp'])\n",
        "\n",
        "# Create sequence data for each customer\n",
        "def create_sequences(data, window_size=10):\n",
        "    \"\"\"\n",
        "    Create sequence data for LSTM model\n",
        "    Each sequence consists of window_size consecutive transactions for a customer\n",
        "    \"\"\"\n",
        "    X_seq = []\n",
        "    y_seq = []\n",
        "\n",
        "    # Group by customer\n",
        "    for customer, group in data.groupby('customer_id'):\n",
        "        if len(group) < window_size:\n",
        "            continue\n",
        "\n",
        "        # Numeric features for sequence\n",
        "        numeric_features = ['transaction_amount'] + [f'feature_{i}' for i in range(10)]\n",
        "        seq_data = group[numeric_features].values\n",
        "\n",
        "        # Create sequences\n",
        "        for i in range(len(group) - window_size):\n",
        "            X_seq.append(seq_data[i:i+window_size])\n",
        "            y_seq.append(group['is_fraud'].values[i+window_size])\n",
        "\n",
        "    return np.array(X_seq), np.array(y_seq)\n",
        "\n",
        "# Create sequences\n",
        "window_size = 5  # Use 5 previous transactions to predict the next one\n",
        "X_seq, y_seq = create_sequences(df, window_size)\n",
        "print(f\"Sequence data shape: {X_seq.shape}, Labels shape: {y_seq.shape}\")"
      ]
    },
    {
      "cell_type": "code",
      "execution_count": null,
      "metadata": {
        "id": "XTOT9mzB_abx"
      },
      "outputs": [],
      "source": [
        "# 3. Split the data\n",
        "X_train, X_test, y_train, y_test = train_test_split(\n",
        "    X_seq, y_seq, test_size=0.2, random_state=42, stratify=y_seq)\n",
        "\n",
        "# 4. Standardize features\n",
        "# Reshape to 2D for standardization\n",
        "n_samples, n_timesteps, n_features = X_train.shape\n",
        "X_train_reshaped = X_train.reshape(-1, n_features)\n",
        "X_test_reshaped = X_test.reshape(-1, n_features)\n",
        "\n",
        "# Standardize\n",
        "scaler = StandardScaler()\n",
        "X_train_scaled = scaler.fit_transform(X_train_reshaped)\n",
        "X_test_scaled = scaler.transform(X_test_reshaped)\n",
        "\n",
        "# Reshape back to 3D\n",
        "X_train_scaled = X_train_scaled.reshape(X_train.shape)\n",
        "X_test_scaled = X_test_scaled.reshape(X_test.shape)\n"
      ]
    },
    {
      "cell_type": "code",
      "execution_count": null,
      "metadata": {
        "id": "vHz2hw_e_Ym1"
      },
      "outputs": [],
      "source": [
        "# 5. Build the LSTM model\n",
        "def create_lstm_model(input_shape):\n",
        "    model = Sequential([\n",
        "        LSTM(64, input_shape=input_shape, return_sequences=True),\n",
        "        Dropout(0.3),\n",
        "        LSTM(32),\n",
        "        Dropout(0.3),\n",
        "        Dense(16, activation='relu'),\n",
        "        Dense(1, activation='sigmoid')  # Binary classification\n",
        "    ])\n",
        "\n",
        "    model.compile(\n",
        "        optimizer='adam',\n",
        "        loss='binary_crossentropy',\n",
        "        metrics=['accuracy', tf.keras.metrics.AUC(name='auc'),\n",
        "                 tf.keras.metrics.Precision(name='precision'),\n",
        "                 tf.keras.metrics.Recall(name='recall')]\n",
        "    )\n",
        "\n",
        "    return model\n",
        "\n",
        "# Create model\n",
        "input_shape = (X_train_scaled.shape[1], X_train_scaled.shape[2])\n",
        "model = create_lstm_model(input_shape)\n",
        "model.summary()"
      ]
    },
    {
      "cell_type": "code",
      "execution_count": null,
      "metadata": {
        "id": "JX4Y7Av8_WCz"
      },
      "outputs": [],
      "source": [
        "# 6. Train the model\n",
        "# Due to class imbalance, we use class weights\n",
        "# Calculate class weights\n",
        "n_neg, n_pos = np.bincount(y_train.astype(int))\n",
        "class_weight = {0: 1.0, 1: n_neg/n_pos}\n",
        "print(f\"Class weights: {class_weight}\")\n",
        "\n",
        "# Early stopping to prevent overfitting\n",
        "early_stopping = tf.keras.callbacks.EarlyStopping(\n",
        "    monitor='val_auc', patience=5, mode='max', restore_best_weights=True\n",
        ")\n",
        "\n",
        "# Train the model\n",
        "history = model.fit(\n",
        "    X_train_scaled, y_train,\n",
        "    epochs=20,\n",
        "    batch_size=64,\n",
        "    validation_split=0.2,\n",
        "    class_weight=class_weight,\n",
        "    callbacks=[early_stopping]\n",
        ")"
      ]
    },
    {
      "cell_type": "code",
      "execution_count": null,
      "metadata": {
        "id": "IAjCn0Dp_T-i"
      },
      "outputs": [],
      "source": [
        "# 7. Evaluate the model\n",
        "loss, accuracy, auc_score, precision, recall = model.evaluate(X_test_scaled, y_test)\n",
        "print(f\"Test Loss: {loss:.4f}\")\n",
        "print(f\"Test Accuracy: {accuracy:.4f}\")\n",
        "print(f\"Test AUC: {auc_score:.4f}\")\n",
        "print(f\"Test Precision: {precision:.4f}\")\n",
        "print(f\"Test Recall: {recall:.4f}\")\n",
        "\n",
        "# Get predictions\n",
        "y_pred_proba = model.predict(X_test_scaled)\n",
        "y_pred = (y_pred_proba > 0.5).astype(int).flatten()\n",
        "\n",
        "# Classification report\n",
        "print(\"\\nClassification Report:\")\n",
        "print(classification_report(y_test, y_pred))\n",
        "\n",
        "# Confusion matrix\n",
        "cm = confusion_matrix(y_test, y_pred)\n",
        "print(\"\\nConfusion Matrix:\")\n",
        "print(cm)"
      ]
    },
    {
      "cell_type": "code",
      "execution_count": null,
      "metadata": {
        "id": "V9D7VvTY_SF7"
      },
      "outputs": [],
      "source": [
        "# 8. Plot ROC curve and Precision-Recall curve\n",
        "def plot_performance_curves(y_true, y_pred_proba):\n",
        "    plt.figure(figsize=(12, 5))\n",
        "\n",
        "    # ROC curve\n",
        "    plt.subplot(1, 2, 1)\n",
        "    fpr, tpr, _ = roc_curve(y_true, y_pred_proba)\n",
        "    roc_auc = auc(fpr, tpr)\n",
        "    plt.plot(fpr, tpr, color='blue', lw=2, label=f'ROC curve (AUC = {roc_auc:.4f})')\n",
        "    plt.plot([0, 1], [0, 1], color='gray', lw=1, linestyle='--')\n",
        "    plt.xlim([0.0, 1.0])\n",
        "    plt.ylim([0.0, 1.05])\n",
        "    plt.xlabel('False Positive Rate')\n",
        "    plt.ylabel('True Positive Rate')\n",
        "    plt.title('Receiver Operating Characteristic')\n",
        "    plt.legend(loc=\"lower right\")\n",
        "\n",
        "    # Precision-Recall curve\n",
        "    plt.subplot(1, 2, 2)\n",
        "    precision, recall, _ = precision_recall_curve(y_true, y_pred_proba)\n",
        "    pr_auc = auc(recall, precision)\n",
        "    plt.plot(recall, precision, color='green', lw=2, label=f'PR curve (AUC = {pr_auc:.4f})')\n",
        "    plt.axhline(y=sum(y_true)/len(y_true), color='gray', lw=1, linestyle='--')\n",
        "    plt.xlim([0.0, 1.0])\n",
        "    plt.ylim([0.0, 1.05])\n",
        "    plt.xlabel('Recall')\n",
        "    plt.ylabel('Precision')\n",
        "    plt.title('Precision-Recall Curve')\n",
        "    plt.legend(loc=\"lower left\")\n",
        "\n",
        "    plt.tight_layout()\n",
        "    plt.show()"
      ]
    },
    {
      "cell_type": "code",
      "execution_count": null,
      "metadata": {
        "id": "Gbmqjt53_ObS"
      },
      "outputs": [],
      "source": [
        "# Plot curves\n",
        "plot_performance_curves(y_test, y_pred_proba.flatten())"
      ]
    },
    {
      "cell_type": "code",
      "execution_count": null,
      "metadata": {
        "id": "Yn4eYjQs_MtI"
      },
      "outputs": [],
      "source": [
        "# 9. Function to make predictions on new data\n",
        "def predict_fraud(model, new_data, window_size, scaler):\n",
        "    \"\"\"\n",
        "    Make predictions on new sequence data\n",
        "\n",
        "    Args:\n",
        "        model: Trained LSTM model\n",
        "        new_data: New transaction data as sequences with shape (n_samples, window_size, n_features)\n",
        "        window_size: The number of time steps in each sequence\n",
        "        scaler: The fitted StandardScaler\n",
        "\n",
        "    Returns:\n",
        "        Fraud probabilities for each sequence\n",
        "    \"\"\"\n",
        "    # Ensure proper shape\n",
        "    if len(new_data.shape) == 2:\n",
        "        new_data = np.expand_dims(new_data, axis=0)\n",
        "\n",
        "    # Reshape for scaling\n",
        "    n_samples, n_timesteps, n_features = new_data.shape\n",
        "    new_data_reshaped = new_data.reshape(-1, n_features)\n",
        "\n",
        "    # Scale\n",
        "    new_data_scaled = scaler.transform(new_data_reshaped)\n",
        "\n",
        "    # Reshape back\n",
        "    new_data_scaled = new_data_scaled.reshape(new_data.shape)\n",
        "\n",
        "    # Predict\n",
        "    fraud_probabilities = model.predict(new_data_scaled)\n",
        "\n",
        "    return fraud_probabilities.flatten()"
      ]
    },
    {
      "cell_type": "code",
      "execution_count": null,
      "metadata": {
        "id": "dKqKd5lu_J9H"
      },
      "outputs": [],
      "source": [
        "# Example of using the prediction function\n",
        "# In a real-world scenario, you would have new transaction data\n",
        "sample_new_data = X_test_scaled[:3]  # Just using a few test samples as an example\n",
        "fraud_probs = predict_fraud(model, sample_new_data, window_size, scaler)\n",
        "print(\"\\nSample Fraud Probabilities:\")\n",
        "for i, prob in enumerate(fraud_probs):\n",
        "    print(f\"Sequence {i+1}: {prob:.4f} ({'Fraud' if prob > 0.5 else 'Normal'})\")"
      ]
    },
    {
      "cell_type": "code",
      "execution_count": null,
      "metadata": {
        "id": "Iz_8F2Ny_Gcn"
      },
      "outputs": [],
      "source": [
        "# 10. Save the model\n",
        "model.save('lstm_fraud_detection_model.h5')\n",
        "print(\"\\nModel saved to 'lstm_fraud_detection_model.h5'\")"
      ]
    }
  ],
  "metadata": {
    "colab": {
      "provenance": [],
      "authorship_tag": "ABX9TyMhOe7bD1q7QezK9Uib3sqf",
      "include_colab_link": true
    },
    "kernelspec": {
      "display_name": "Python 3",
      "name": "python3"
    },
    "language_info": {
      "name": "python"
    }
  },
  "nbformat": 4,
  "nbformat_minor": 0
}